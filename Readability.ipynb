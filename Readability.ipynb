{
 "cells": [
  {
   "cell_type": "code",
   "execution_count": 2,
   "id": "96d2df36",
   "metadata": {},
   "outputs": [],
   "source": [
    "import nltk \n",
    "import stanza"
   ]
  },
  {
   "cell_type": "code",
   "execution_count": 3,
   "id": "9fd95dd0",
   "metadata": {},
   "outputs": [],
   "source": [
    "x = \"\"\"Privacy, Security, and Accessibility Policies \n",
    "\n",
    "|||USA.gov doesn't collect personal information when you visit our web site unless you choose to provide that information. \n",
    "\n",
    "|||What's on This Page \n",
    "\n",
    "Information Collected and Stored Automatically\n",
    "Site Security\n",
    "Use of Persistent Cookies\n",
    "Accessibility Policy\n",
    "External Links\n",
    "If You Send Us Personal Information\n",
    "||| Information Collected and Stored Automatically \n",
    "\n",
    "When you visit USA.gov, we may store some or all of the following: the Internet protocol address from which you access USA.gov, date and time, the name of the web site from which you linked to USA.gov, the name of the file or words you searched, items clicked on a page, and the browser and operating system used. \n",
    "\n",
    "|||This information is used to measure the number of visitors to the various sections of our site and identify system performance or problem areas. We also use this information to help us develop the site, analyze patterns of usage, and to make the site more useful. This information is not used for associating search terms or patterns of site navigation with individual users. USA.gov may anonymize and provide this information to third party entities for the purposes of research analysis. We do not share or sell visitor data for the purposes of advertising, marketing, or any other commercial purpose. \n",
    "\n",
    "||| Site Security \n",
    "\n",
    "For site security purposes and to ensure that this service remains available to all users, this government computer system employs commercial software programs to monitor network traffic to identify unauthorized attempts to upload or change information, or otherwise cause damage. \n",
    "\n",
    "|||Except for authorized law enforcement investigations, no other attempts are made to identify individual users or their usage habits. Raw data logs are used for no other purposes and are scheduled for regular destruction in accordance with National Archives and Records Administration guidelines. \n",
    "\n",
    "|||Unauthorized attempts to upload information or change information on this service are strictly prohibited and may be punishable under the Computer Fraud and Abuse Act of 1986 and the National Information Infrastructure Protection Act. \n",
    "\n",
    "||| Use of Persistent Cookies \n",
    "\n",
    "Like many websites, USA.gov uses \"persistent cookie\" technology. A persistent cookie is a small text file that this website places on your web browser so that it can gather anonymous summary demographic information, and remember your browser when it is used to visit our site again laterkind of like cookie crumbs! (Hence the name.) These cookies uniquely identify a browser on a computer, but never a person. In other words, if the same person uses Chrome and Internet Explorer, two unique browser cookies will be assigned, one for each browser, so that person will be counted as two different visitors because visits are based on browsers, not computers or persons. We use persistent cookies in two ways, both of which enhance your experience on USA.gov while also protecting your privacy: \n",
    "\n",
    "|||\n",
    "To remember you when your browser comes back to the site, so we don't invite you to take our customer satisfaction survey every time you visit. Our customer satisfaction survey uses a persistent cookie to ensure we won't invite you to take a customer satisfaction survey within 90 days of completing a survey on USA.gov.\n",
    "|||\n",
    "To get aggregate metrics on site usage to understand how people are using the site and how we can make it better. We use web metrics services to track activity on USA.gov. Government agencies only ever receive traffic statistics anonymously and in the aggregate.\n",
    "|||\n",
    "To gather anonymous summary demographic information about our visitors such as gender, age range, and areas of interest for adults over the age of 18. We do this by using Google Demographic and Interests reports. When you visit a website that has partnered with the Google Display Network, Google stores a number in your browser using a persistent cookie to remember your visits. This number uniquely identifies a web browser, not a specific person. Browsers may be associated with a demographic category, such as gender or age range, based on the sites that were visited. This demographic information is used to help us better understand our visitors' interests and needs to more effectively develop content to serve you.\n",
    "|||Most Internet browsers automatically accept persistent cookies. Although using persistent cookies creates a much better experience for you, this site will also work without them. If you don't want to accept cookies, you can edit your browser's options to stop accepting persistent cookies or to prompt you before accepting a cookie from the websites you visit. Here's how you can disable cookies and/or Google Demographic and Interests reports. \n",
    "\n",
    "||| Accessibility Policy \n",
    "\n",
    "USA.gov is committed to providing access to all individualswith or without disabilitiesseeking information on USA.gov. To provide this information, we've built USA.gov to conform to Section 508 of the Rehabilitation Act (as amended). Section 508 requires that all individuals with disabilities (whether federal employees or members of the general public) have access to, and use of, information and data comparable to that provided to individuals without disabilities, unless an undue burden would be imposed on us. \n",
    "\n",
    "|||If you use assistive technology (such as a screen reader, eye tracking device, voice recognition software, etc.) and have difficulty accessing information on USA.gov, please e-mail us and provide the URL (web address) of the material you tried to access, the problem you experienced, and your contact information. We'll contact you and attempt to provide the information you're seeking. \n",
    "\n",
    "||| External Links \n",
    "\n",
    "USA.gov links to many websites created and maintained by other public and/or private organizations as outlined in our Linking Policy. If you click a link to an outside website, such as Facebook or YouTube, you will leave the USA.gov site and are subject to the privacy and security policies of the owners/sponsors of the outside website. \n",
    "\n",
    "||| Social Media Sites \n",
    "\n",
    "While USA.gov manages presence on social media sites (e.g., Facebook, Twitter, YouTube) in order to share government information and engage with the public, we do not collect any Personally Identifiable Information through those sites. We also do not use personal information made available by the user to these third-party sites. \n",
    "\n",
    "||| If You Send Us Personal Information \n",
    "\n",
    "We do not collect personal information for any purpose other than to respond to your request. The only personal information that we collect is what you decide to give us by ordering publications, sending us an e-mail, or subscribing to our e-mail subscription services. If you choose to provide us with personal information like filling out a Contact Us form, with an e-mail address and ZIP code, and submitting it to us through the website we use that information to respond to your message, and to help get you the information you requested. Similarly, if you order a publication from us, we will collect your name, and mailing address to fulfill your order. \n",
    "\n",
    "|||We only share the information you give us with another government agency if your question relates to that agency, or as otherwise required by law. USA.gov never collects information or creates individual profiles for commercial marketing.\n",
    "\n",
    "\"\"\""
   ]
  },
  {
   "cell_type": "code",
   "execution_count": 4,
   "id": "59becb1b",
   "metadata": {},
   "outputs": [
    {
     "name": "stderr",
     "output_type": "stream",
     "text": [
      "2021-11-24 08:37:52 INFO: Loading these models for language: en (English):\n",
      "========================\n",
      "| Processor | Package  |\n",
      "------------------------\n",
      "| tokenize  | combined |\n",
      "========================\n",
      "\n",
      "2021-11-24 08:37:52 INFO: Use device: cpu\n",
      "2021-11-24 08:37:52 INFO: Loading: tokenize\n",
      "2021-11-24 08:37:52 INFO: Done loading processors!\n"
     ]
    }
   ],
   "source": [
    "nlp = stanza.Pipeline(lang='en', processors='tokenize')\n"
   ]
  },
  {
   "cell_type": "code",
   "execution_count": 5,
   "id": "a1a785c0",
   "metadata": {},
   "outputs": [],
   "source": [
    "doc = nlp(x)\n",
    "    \n"
   ]
  },
  {
   "cell_type": "code",
   "execution_count": 6,
   "id": "f6d654eb",
   "metadata": {},
   "outputs": [
    {
     "data": {
      "text/plain": [
       "67"
      ]
     },
     "execution_count": 6,
     "metadata": {},
     "output_type": "execute_result"
    }
   ],
   "source": [
    "num_sentences = len(doc.sentences)\n",
    "num_sentences\n"
   ]
  },
  {
   "cell_type": "code",
   "execution_count": 7,
   "id": "7291f754",
   "metadata": {},
   "outputs": [],
   "source": [
    "import pyphen\n",
    "dic = pyphen.Pyphen(lang='nl_NL')"
   ]
  },
  {
   "cell_type": "code",
   "execution_count": 47,
   "id": "51632f3e",
   "metadata": {},
   "outputs": [
    {
     "data": {
      "text/plain": [
       "11662"
      ]
     },
     "execution_count": 47,
     "metadata": {},
     "output_type": "execute_result"
    }
   ],
   "source": [
    "import re\n",
    "\n",
    "wordList = re.sub(\"[^\\w]\", \" \",  x).split()\n",
    "\n",
    "num_syllables = [len(dic.inserted(word).split(\"-\")) for word in wordList ]\n",
    "num_syllables = sum(num_syllables)\n",
    "num_syllables"
   ]
  },
  {
   "cell_type": "code",
   "execution_count": 48,
   "id": "4fc6a36e",
   "metadata": {},
   "outputs": [
    {
     "data": {
      "text/plain": [
       "42.03339307864056"
      ]
     },
     "execution_count": 48,
     "metadata": {},
     "output_type": "execute_result"
    }
   ],
   "source": [
    "\n",
    "ASL = doc.num_words/num_sentences\n",
    "\n",
    "ASW = num_syllables/doc.num_words\n",
    "\n",
    "\n",
    "flesch_reading_ease = 206.835 - (1.015 * ASL) - (84.6 * ASW) \n",
    "RE = flesch_reading_ease"
   ]
  },
  {
   "cell_type": "code",
   "execution_count": 50,
   "id": "9f95bd6c",
   "metadata": {},
   "outputs": [
    {
     "data": {
      "text/plain": [
       "17.9"
      ]
     },
     "execution_count": 50,
     "metadata": {},
     "output_type": "execute_result"
    }
   ],
   "source": [
    "import textstat\n",
    "\n",
    "\n",
    "textstat.flesch_kincaid_grade(x)"
   ]
  },
  {
   "cell_type": "code",
   "execution_count": 51,
   "id": "346a4a20",
   "metadata": {},
   "outputs": [
    {
     "data": {
      "text/plain": [
       "28.1"
      ]
     },
     "execution_count": 51,
     "metadata": {},
     "output_type": "execute_result"
    }
   ],
   "source": [
    "textstat.flesch_reading_ease(x)"
   ]
  },
  {
   "cell_type": "code",
   "execution_count": 55,
   "id": "03bcf7ad",
   "metadata": {},
   "outputs": [
    {
     "data": {
      "text/plain": [
       "25.557553956834532"
      ]
     },
     "execution_count": 55,
     "metadata": {},
     "output_type": "execute_result"
    }
   ],
   "source": [
    "sentences = doc.sentences\n",
    "for i in range(0, num_sentences, 20):\n",
    "    text = doc.sentences[i:i+6]"
   ]
  },
  {
   "cell_type": "code",
   "execution_count": 8,
   "id": "e1c31d37",
   "metadata": {},
   "outputs": [
    {
     "name": "stdout",
     "output_type": "stream",
     "text": [
      "67\n",
      "['Privacy , Security , and Accessibility Policies', '||| USA .', \"gov does n't collect personal information when you visit our web site unless you choose to provide that information .\", \"||| What 's on This Page\", 'Information Collected and Stored Automatically Site Security Use of Persistent Cookies Accessibility Policy External Links If You Send Us Personal Information ||| Information Collected and Stored Automatically', 'When you visit USA . gov , we may store some or all of the following : the Internet protocol address from which you access USA .', 'gov , date and time , the name of the web site from which you linked to USA .', 'gov , the name of the file or words you searched , items clicked on a page , and the browser and operating system used .', '||| This information is used to measure the number of visitors to the various sections of our site and identify system performance or problem areas .', 'We also use this information to help us develop the site , analyze patterns of usage , and to make the site more useful .', 'This information is not used for associating search terms or patterns of site navigation with individual users .', 'USA . gov may anonymize and provide this information to third party entities for the purposes of research analysis .', 'We do not share or sell visitor data for the purposes of advertising , marketing , or any other commercial purpose .', '||| Site Security', 'For site security purposes and to ensure that this service remains available to all users , this government computer system employs commercial software programs to monitor network traffic to identify unauthorized attempts to upload or change information , or otherwise cause damage .', '||| Except for authorized law enforcement investigations , no other attempts are made to identify individual users or their usage habits .', 'Raw data logs are used for no other purposes and are scheduled for regular destruction in accordance with National Archives and Records Administration guidelines .', '||| Unauthorized attempts to upload information or change information on this service are strictly prohibited and may be punishable under the Computer Fraud and Abuse Act of 1986 and the National Information Infrastructure Protection Act .', '||| Use of Persistent Cookies', 'Like many websites , USA . gov uses \" persistent cookie \" technology .', 'A persistent cookie is a small text file that this website places on your web browser so that it can gather anonymous summary demographic information , and remember your browser when it is used to visit our site again laterkind of like cookie crumbs !', '( Hence the name . )', 'These cookies uniquely identify a browser on a computer , but never a person .', 'In other words , if the same person uses Chrome and Internet Explorer , two unique browser cookies will be assigned , one for each browser , so that person will be counted as two different visitors because visits are based on browsers , not computers or persons .', 'We use persistent cookies in two ways , both of which enhance your experience on USA .', 'gov while also protecting your privacy :', '|||', \"To remember you when your browser comes back to the site , so we do n't invite you to take our customer satisfaction survey every time you visit .\", \"Our customer satisfaction survey uses a persistent cookie to ensure we wo n't invite you to take a customer satisfaction survey within 90 days of completing a survey on USA .\", 'gov. |||', 'To get aggregate metrics on site usage to understand how people are using the site and how we can make it better .', 'We use web metrics services to track activity on USA .', 'gov .', 'Government agencies only ever receive traffic statistics anonymously and in the aggregate .', '|||', 'To gather anonymous summary demographic information about our visitors such as gender , age range , and areas of interest for adults over the age of 18 .', 'We do this by using Google Demographic and Interests reports .', 'When you visit a website that has partnered with the Google Display Network , Google stores a number in your browser using a persistent cookie to remember your visits .', 'This number uniquely identifies a web browser , not a specific person .', 'Browsers may be associated with a demographic category , such as gender or age range , based on the sites that were visited .', \"This demographic information is used to help us better understand our visitors ' interests and needs to more effectively develop content to serve you .\", '|| | Most Internet browsers automatically accept persistent cookies .', 'Although using persistent cookies creates a much better experience for you , this site will also work without them .', \"If you do n't want to accept cookies , you can edit your browser 's options to stop accepting persistent cookies or to prompt you before accepting a cookie from the websites you visit .\", \"Here 's how you can disable cookies and / or Google Demographic and Interests reports .\", '||| Accessibility Policy', 'USA . gov is committed to providing access to all individualswith or without disabilitiesseeking information on USA .', 'gov .', \"To provide this information , we 've built USA . gov to conform to Section 508 of the Rehabilitation Act ( as amended ) .\", 'Section 508 requires that all individuals with disabilities ( whether federal employees or members of the general public ) have access to , and use of , information and data comparable to that provided to individuals without disabilities , unless an undue burden would be imposed on us .', '||| If you use assistive technology ( such as a screen reader , eye tracking device , voice recognition software , etc. ) and have difficulty accessing information on USA .', 'gov , please e-mail us and provide the URL ( web address ) of the material you tried to access , the problem you experienced , and your contact information .', \"We 'll contact you and attempt to provide the information you 're seeking .\", '||| External Links', 'USA . gov links to many websites created and maintained by other public and / or private organizations as outlined in our Linking Policy .', 'If you click a link to an outside website , such as Facebook or YouTube , you will leave the USA .', 'gov site and are subject to the privacy and security policies of the owners / sponsors of the outside website .', '||| Social Media Sites', 'While USA . gov manages presence on social media sites ( e.g. , Facebook , Twitter , YouTube ) in order to share government information and engage with the public , we do not collect any Personally Identifiable Information through those sites .', 'We also do not use personal information made available by the user to these third - party sites .', '||| If You Send Us Personal Information', 'We do not collect personal information for any purpose other than to respond to your request .', 'The only personal information that we collect is what you decide to give us by ordering publications , sending us an e-mail , or subscribing to our e-mail subscription services .', 'If you choose to provide us with personal information like filling out a Contact Us form , with an e-mail address and ZIP code , and submitting it to us through the website we use that information to respond to your message , and to help get you the information you requested .', 'Similarly , if you order a publication from us , we will collect your name , and mailing address to fulfill your order .', '||| We only share the information you give us with another government agency if your question relates to that agency , or as otherwise required by law .', 'USA . gov never collects information or creates individual profiles for commercial marketing .']\n"
     ]
    }
   ],
   "source": [
    "sentences = [sent.tokens for sent in doc.sentences]\n",
    "print(len(sentences))\n",
    "sents = []\n",
    "text = []\n",
    "for tokens in sentences:\n",
    "    text.append([token.text for token in tokens])\n",
    "sentences = [\" \".join(sent) for sent in text]\n",
    "print(sentences)"
   ]
  },
  {
   "cell_type": "code",
   "execution_count": 9,
   "id": "e55cc985",
   "metadata": {},
   "outputs": [],
   "source": [
    "max_chunk_length = 512 #for default summarization pipeline\n",
    "chunks = []\n",
    "current = 0\n",
    "for s in sentences:\n",
    "    if (len(chunks) == current + 1) and (len(chunks[current]) + len(s.split(' ')) <= max_chunk_length):\n",
    "            chunks[current].extend(s.split(' ')) #put shorter sentence in current chunk\n",
    "    elif (len(chunks) == current + 1) and (len(chunks[current]) + len(s.split(' ')) > max_chunk_length):\n",
    "            current += 1 #new chunk\n",
    "            chunks.append(s.split(' ')) #put longer sentence in new chunk\n",
    "    else:\n",
    "        chunks.append(s.split(' ')) #append words of sentence to new chunk\n",
    "        \n",
    "l = len(chunks)\n",
    "for i in range (l): #index to loop through the chunks\n",
    "    chunks[i] = '  '.join(chunks[i])\n",
    "    \n"
   ]
  },
  {
   "cell_type": "code",
   "execution_count": 10,
   "id": "7ff22871",
   "metadata": {},
   "outputs": [
    {
     "name": "stdout",
     "output_type": "stream",
     "text": [
      "Privacy  ,  Security  ,  and  Accessibility  Policies  |||  USA  .  gov  does  n't  collect  personal  information  when  you  visit  our  web  site  unless  you  choose  to  provide  that  information  .  |||  What  's  on  This  Page  Information  Collected  and  Stored  Automatically  Site  Security  Use  of  Persistent  Cookies  Accessibility  Policy  External  Links  If  You  Send  Us  Personal  Information  |||  Information  Collected  and  Stored  Automatically  When  you  visit  USA  .  gov  ,  we  may  store  some  or  all  of  the  following  :  the  Internet  protocol  address  from  which  you  access  USA  .  gov  ,  date  and  time  ,  the  name  of  the  web  site  from  which  you  linked  to  USA  .  gov  ,  the  name  of  the  file  or  words  you  searched  ,  items  clicked  on  a  page  ,  and  the  browser  and  operating  system  used  .  |||  This  information  is  used  to  measure  the  number  of  visitors  to  the  various  sections  of  our  site  and  identify  system  performance  or  problem  areas  .  We  also  use  this  information  to  help  us  develop  the  site  ,  analyze  patterns  of  usage  ,  and  to  make  the  site  more  useful  .  This  information  is  not  used  for  associating  search  terms  or  patterns  of  site  navigation  with  individual  users  .  USA  .  gov  may  anonymize  and  provide  this  information  to  third  party  entities  for  the  purposes  of  research  analysis  .  We  do  not  share  or  sell  visitor  data  for  the  purposes  of  advertising  ,  marketing  ,  or  any  other  commercial  purpose  .  |||  Site  Security  For  site  security  purposes  and  to  ensure  that  this  service  remains  available  to  all  users  ,  this  government  computer  system  employs  commercial  software  programs  to  monitor  network  traffic  to  identify  unauthorized  attempts  to  upload  or  change  information  ,  or  otherwise  cause  damage  .  |||  Except  for  authorized  law  enforcement  investigations  ,  no  other  attempts  are  made  to  identify  individual  users  or  their  usage  habits  .  Raw  data  logs  are  used  for  no  other  purposes  and  are  scheduled  for  regular  destruction  in  accordance  with  National  Archives  and  Records  Administration  guidelines  .  |||  Unauthorized  attempts  to  upload  information  or  change  information  on  this  service  are  strictly  prohibited  and  may  be  punishable  under  the  Computer  Fraud  and  Abuse  Act  of  1986  and  the  National  Information  Infrastructure  Protection  Act  .  |||  Use  of  Persistent  Cookies  Like  many  websites  ,  USA  .  gov  uses  \"  persistent  cookie  \"  technology  .  A  persistent  cookie  is  a  small  text  file  that  this  website  places  on  your  web  browser  so  that  it  can  gather  anonymous  summary  demographic  information  ,  and  remember  your  browser  when  it  is  used  to  visit  our  site  again  laterkind  of  like  cookie  crumbs  !  (  Hence  the  name  .  )  These  cookies  uniquely  identify  a  browser  on  a  computer  ,  but  never  a  person  .  In  other  words  ,  if  the  same  person  uses  Chrome  and  Internet  Explorer  ,  two  unique  browser  cookies  will  be  assigned  ,  one  for  each  browser  ,  so  that  person  will  be  counted  as  two  different  visitors  because  visits  are  based  on  browsers  ,  not  computers  or  persons  .\n",
      "We  use  persistent  cookies  in  two  ways  ,  both  of  which  enhance  your  experience  on  USA  .  gov  while  also  protecting  your  privacy  :  |||  To  remember  you  when  your  browser  comes  back  to  the  site  ,  so  we  do  n't  invite  you  to  take  our  customer  satisfaction  survey  every  time  you  visit  .  Our  customer  satisfaction  survey  uses  a  persistent  cookie  to  ensure  we  wo  n't  invite  you  to  take  a  customer  satisfaction  survey  within  90  days  of  completing  a  survey  on  USA  .  gov.  |||  To  get  aggregate  metrics  on  site  usage  to  understand  how  people  are  using  the  site  and  how  we  can  make  it  better  .  We  use  web  metrics  services  to  track  activity  on  USA  .  gov  .  Government  agencies  only  ever  receive  traffic  statistics  anonymously  and  in  the  aggregate  .  |||  To  gather  anonymous  summary  demographic  information  about  our  visitors  such  as  gender  ,  age  range  ,  and  areas  of  interest  for  adults  over  the  age  of  18  .  We  do  this  by  using  Google  Demographic  and  Interests  reports  .  When  you  visit  a  website  that  has  partnered  with  the  Google  Display  Network  ,  Google  stores  a  number  in  your  browser  using  a  persistent  cookie  to  remember  your  visits  .  This  number  uniquely  identifies  a  web  browser  ,  not  a  specific  person  .  Browsers  may  be  associated  with  a  demographic  category  ,  such  as  gender  or  age  range  ,  based  on  the  sites  that  were  visited  .  This  demographic  information  is  used  to  help  us  better  understand  our  visitors  '  interests  and  needs  to  more  effectively  develop  content  to  serve  you  .  ||  |  Most  Internet  browsers  automatically  accept  persistent  cookies  .  Although  using  persistent  cookies  creates  a  much  better  experience  for  you  ,  this  site  will  also  work  without  them  .  If  you  do  n't  want  to  accept  cookies  ,  you  can  edit  your  browser  's  options  to  stop  accepting  persistent  cookies  or  to  prompt  you  before  accepting  a  cookie  from  the  websites  you  visit  .  Here  's  how  you  can  disable  cookies  and  /  or  Google  Demographic  and  Interests  reports  .  |||  Accessibility  Policy  USA  .  gov  is  committed  to  providing  access  to  all  individualswith  or  without  disabilitiesseeking  information  on  USA  .  gov  .  To  provide  this  information  ,  we  've  built  USA  .  gov  to  conform  to  Section  508  of  the  Rehabilitation  Act  (  as  amended  )  .  Section  508  requires  that  all  individuals  with  disabilities  (  whether  federal  employees  or  members  of  the  general  public  )  have  access  to  ,  and  use  of  ,  information  and  data  comparable  to  that  provided  to  individuals  without  disabilities  ,  unless  an  undue  burden  would  be  imposed  on  us  .  |||  If  you  use  assistive  technology  (  such  as  a  screen  reader  ,  eye  tracking  device  ,  voice  recognition  software  ,  etc.  )  and  have  difficulty  accessing  information  on  USA  .  gov  ,  please  e-mail  us  and  provide  the  URL  (  web  address  )  of  the  material  you  tried  to  access  ,  the  problem  you  experienced  ,  and  your  contact  information  .\n",
      "We  'll  contact  you  and  attempt  to  provide  the  information  you  're  seeking  .  |||  External  Links  USA  .  gov  links  to  many  websites  created  and  maintained  by  other  public  and  /  or  private  organizations  as  outlined  in  our  Linking  Policy  .  If  you  click  a  link  to  an  outside  website  ,  such  as  Facebook  or  YouTube  ,  you  will  leave  the  USA  .  gov  site  and  are  subject  to  the  privacy  and  security  policies  of  the  owners  /  sponsors  of  the  outside  website  .  |||  Social  Media  Sites  While  USA  .  gov  manages  presence  on  social  media  sites  (  e.g.  ,  Facebook  ,  Twitter  ,  YouTube  )  in  order  to  share  government  information  and  engage  with  the  public  ,  we  do  not  collect  any  Personally  Identifiable  Information  through  those  sites  .  We  also  do  not  use  personal  information  made  available  by  the  user  to  these  third  -  party  sites  .  |||  If  You  Send  Us  Personal  Information  We  do  not  collect  personal  information  for  any  purpose  other  than  to  respond  to  your  request  .  The  only  personal  information  that  we  collect  is  what  you  decide  to  give  us  by  ordering  publications  ,  sending  us  an  e-mail  ,  or  subscribing  to  our  e-mail  subscription  services  .  If  you  choose  to  provide  us  with  personal  information  like  filling  out  a  Contact  Us  form  ,  with  an  e-mail  address  and  ZIP  code  ,  and  submitting  it  to  us  through  the  website  we  use  that  information  to  respond  to  your  message  ,  and  to  help  get  you  the  information  you  requested  .  Similarly  ,  if  you  order  a  publication  from  us  ,  we  will  collect  your  name  ,  and  mailing  address  to  fulfill  your  order  .  |||  We  only  share  the  information  you  give  us  with  another  government  agency  if  your  question  relates  to  that  agency  ,  or  as  otherwise  required  by  law  .  USA  .  gov  never  collects  information  or  creates  individual  profiles  for  commercial  marketing  .\n"
     ]
    }
   ],
   "source": [
    "for i in chunks:\n",
    "    print(i)"
   ]
  },
  {
   "cell_type": "code",
   "execution_count": 11,
   "id": "32b41d6f",
   "metadata": {},
   "outputs": [],
   "source": [
    "import requests\n",
    "\n",
    "API_URL = \"https://api-inference.huggingface.co/models/facebook/bart-large-cnn\"\n",
    "headers = {\"Authorization\": \"\"}\n",
    "\n",
    "def query(payload):\n",
    "    response = requests.post(API_URL, headers=headers, json=payload)\n",
    "    return response.json()\n",
    "\n",
    "output = query({\n",
    "    \"inputs\": chunks[0]})"
   ]
  },
  {
   "cell_type": "code",
   "execution_count": 12,
   "id": "b81b5aec",
   "metadata": {},
   "outputs": [
    {
     "ename": "KeyboardInterrupt",
     "evalue": "",
     "output_type": "error",
     "traceback": [
      "\u001b[0;31m---------------------------------------------------------------------------\u001b[0m",
      "\u001b[0;31mKeyboardInterrupt\u001b[0m                         Traceback (most recent call last)",
      "\u001b[0;32m/var/folders/7z/tz9yl6w57g5b596zhf499m_80000gn/T/ipykernel_38037/518070457.py\u001b[0m in \u001b[0;36m<module>\u001b[0;34m\u001b[0m\n\u001b[1;32m     10\u001b[0m \u001b[0moutputs\u001b[0m \u001b[0;34m=\u001b[0m \u001b[0;34m[\u001b[0m\u001b[0;34m]\u001b[0m\u001b[0;34m\u001b[0m\u001b[0;34m\u001b[0m\u001b[0m\n\u001b[1;32m     11\u001b[0m \u001b[0;32mfor\u001b[0m \u001b[0mchunk\u001b[0m \u001b[0;32min\u001b[0m \u001b[0mchunks\u001b[0m\u001b[0;34m:\u001b[0m\u001b[0;34m\u001b[0m\u001b[0;34m\u001b[0m\u001b[0m\n\u001b[0;32m---> 12\u001b[0;31m     output = query({\n\u001b[0m\u001b[1;32m     13\u001b[0m     \"inputs\": chunk})\n\u001b[1;32m     14\u001b[0m     \u001b[0moutputs\u001b[0m\u001b[0;34m.\u001b[0m\u001b[0mappend\u001b[0m\u001b[0;34m(\u001b[0m\u001b[0moutput\u001b[0m\u001b[0;34m[\u001b[0m\u001b[0;36m0\u001b[0m\u001b[0;34m]\u001b[0m\u001b[0;34m[\u001b[0m\u001b[0;34m\"summary_text\"\u001b[0m\u001b[0;34m]\u001b[0m\u001b[0;34m)\u001b[0m\u001b[0;34m\u001b[0m\u001b[0;34m\u001b[0m\u001b[0m\n",
      "\u001b[0;32m/var/folders/7z/tz9yl6w57g5b596zhf499m_80000gn/T/ipykernel_38037/518070457.py\u001b[0m in \u001b[0;36mquery\u001b[0;34m(payload)\u001b[0m\n\u001b[1;32m      5\u001b[0m \u001b[0;34m\u001b[0m\u001b[0m\n\u001b[1;32m      6\u001b[0m \u001b[0;32mdef\u001b[0m \u001b[0mquery\u001b[0m\u001b[0;34m(\u001b[0m\u001b[0mpayload\u001b[0m\u001b[0;34m)\u001b[0m\u001b[0;34m:\u001b[0m\u001b[0;34m\u001b[0m\u001b[0;34m\u001b[0m\u001b[0m\n\u001b[0;32m----> 7\u001b[0;31m     \u001b[0mresponse\u001b[0m \u001b[0;34m=\u001b[0m \u001b[0mrequests\u001b[0m\u001b[0;34m.\u001b[0m\u001b[0mpost\u001b[0m\u001b[0;34m(\u001b[0m\u001b[0mAPI_URL\u001b[0m\u001b[0;34m,\u001b[0m \u001b[0mheaders\u001b[0m\u001b[0;34m=\u001b[0m\u001b[0mheaders\u001b[0m\u001b[0;34m,\u001b[0m \u001b[0mjson\u001b[0m\u001b[0;34m=\u001b[0m\u001b[0mpayload\u001b[0m\u001b[0;34m)\u001b[0m\u001b[0;34m\u001b[0m\u001b[0;34m\u001b[0m\u001b[0m\n\u001b[0m\u001b[1;32m      8\u001b[0m     \u001b[0;32mreturn\u001b[0m \u001b[0mresponse\u001b[0m\u001b[0;34m.\u001b[0m\u001b[0mjson\u001b[0m\u001b[0;34m(\u001b[0m\u001b[0;34m)\u001b[0m\u001b[0;34m\u001b[0m\u001b[0;34m\u001b[0m\u001b[0m\n\u001b[1;32m      9\u001b[0m \u001b[0;34m\u001b[0m\u001b[0m\n",
      "\u001b[0;32m/opt/homebrew/Caskroom/miniforge/base/envs/.venv/lib/python3.9/site-packages/requests/api.py\u001b[0m in \u001b[0;36mpost\u001b[0;34m(url, data, json, **kwargs)\u001b[0m\n\u001b[1;32m    115\u001b[0m     \"\"\"\n\u001b[1;32m    116\u001b[0m \u001b[0;34m\u001b[0m\u001b[0m\n\u001b[0;32m--> 117\u001b[0;31m     \u001b[0;32mreturn\u001b[0m \u001b[0mrequest\u001b[0m\u001b[0;34m(\u001b[0m\u001b[0;34m'post'\u001b[0m\u001b[0;34m,\u001b[0m \u001b[0murl\u001b[0m\u001b[0;34m,\u001b[0m \u001b[0mdata\u001b[0m\u001b[0;34m=\u001b[0m\u001b[0mdata\u001b[0m\u001b[0;34m,\u001b[0m \u001b[0mjson\u001b[0m\u001b[0;34m=\u001b[0m\u001b[0mjson\u001b[0m\u001b[0;34m,\u001b[0m \u001b[0;34m**\u001b[0m\u001b[0mkwargs\u001b[0m\u001b[0;34m)\u001b[0m\u001b[0;34m\u001b[0m\u001b[0;34m\u001b[0m\u001b[0m\n\u001b[0m\u001b[1;32m    118\u001b[0m \u001b[0;34m\u001b[0m\u001b[0m\n\u001b[1;32m    119\u001b[0m \u001b[0;34m\u001b[0m\u001b[0m\n",
      "\u001b[0;32m/opt/homebrew/Caskroom/miniforge/base/envs/.venv/lib/python3.9/site-packages/requests/api.py\u001b[0m in \u001b[0;36mrequest\u001b[0;34m(method, url, **kwargs)\u001b[0m\n\u001b[1;32m     59\u001b[0m     \u001b[0;31m# cases, and look like a memory leak in others.\u001b[0m\u001b[0;34m\u001b[0m\u001b[0;34m\u001b[0m\u001b[0m\n\u001b[1;32m     60\u001b[0m     \u001b[0;32mwith\u001b[0m \u001b[0msessions\u001b[0m\u001b[0;34m.\u001b[0m\u001b[0mSession\u001b[0m\u001b[0;34m(\u001b[0m\u001b[0;34m)\u001b[0m \u001b[0;32mas\u001b[0m \u001b[0msession\u001b[0m\u001b[0;34m:\u001b[0m\u001b[0;34m\u001b[0m\u001b[0;34m\u001b[0m\u001b[0m\n\u001b[0;32m---> 61\u001b[0;31m         \u001b[0;32mreturn\u001b[0m \u001b[0msession\u001b[0m\u001b[0;34m.\u001b[0m\u001b[0mrequest\u001b[0m\u001b[0;34m(\u001b[0m\u001b[0mmethod\u001b[0m\u001b[0;34m=\u001b[0m\u001b[0mmethod\u001b[0m\u001b[0;34m,\u001b[0m \u001b[0murl\u001b[0m\u001b[0;34m=\u001b[0m\u001b[0murl\u001b[0m\u001b[0;34m,\u001b[0m \u001b[0;34m**\u001b[0m\u001b[0mkwargs\u001b[0m\u001b[0;34m)\u001b[0m\u001b[0;34m\u001b[0m\u001b[0;34m\u001b[0m\u001b[0m\n\u001b[0m\u001b[1;32m     62\u001b[0m \u001b[0;34m\u001b[0m\u001b[0m\n\u001b[1;32m     63\u001b[0m \u001b[0;34m\u001b[0m\u001b[0m\n",
      "\u001b[0;32m/opt/homebrew/Caskroom/miniforge/base/envs/.venv/lib/python3.9/site-packages/requests/sessions.py\u001b[0m in \u001b[0;36mrequest\u001b[0;34m(self, method, url, params, data, headers, cookies, files, auth, timeout, allow_redirects, proxies, hooks, stream, verify, cert, json)\u001b[0m\n\u001b[1;32m    540\u001b[0m         }\n\u001b[1;32m    541\u001b[0m         \u001b[0msend_kwargs\u001b[0m\u001b[0;34m.\u001b[0m\u001b[0mupdate\u001b[0m\u001b[0;34m(\u001b[0m\u001b[0msettings\u001b[0m\u001b[0;34m)\u001b[0m\u001b[0;34m\u001b[0m\u001b[0;34m\u001b[0m\u001b[0m\n\u001b[0;32m--> 542\u001b[0;31m         \u001b[0mresp\u001b[0m \u001b[0;34m=\u001b[0m \u001b[0mself\u001b[0m\u001b[0;34m.\u001b[0m\u001b[0msend\u001b[0m\u001b[0;34m(\u001b[0m\u001b[0mprep\u001b[0m\u001b[0;34m,\u001b[0m \u001b[0;34m**\u001b[0m\u001b[0msend_kwargs\u001b[0m\u001b[0;34m)\u001b[0m\u001b[0;34m\u001b[0m\u001b[0;34m\u001b[0m\u001b[0m\n\u001b[0m\u001b[1;32m    543\u001b[0m \u001b[0;34m\u001b[0m\u001b[0m\n\u001b[1;32m    544\u001b[0m         \u001b[0;32mreturn\u001b[0m \u001b[0mresp\u001b[0m\u001b[0;34m\u001b[0m\u001b[0;34m\u001b[0m\u001b[0m\n",
      "\u001b[0;32m/opt/homebrew/Caskroom/miniforge/base/envs/.venv/lib/python3.9/site-packages/requests/sessions.py\u001b[0m in \u001b[0;36msend\u001b[0;34m(self, request, **kwargs)\u001b[0m\n\u001b[1;32m    653\u001b[0m \u001b[0;34m\u001b[0m\u001b[0m\n\u001b[1;32m    654\u001b[0m         \u001b[0;31m# Send the request\u001b[0m\u001b[0;34m\u001b[0m\u001b[0;34m\u001b[0m\u001b[0m\n\u001b[0;32m--> 655\u001b[0;31m         \u001b[0mr\u001b[0m \u001b[0;34m=\u001b[0m \u001b[0madapter\u001b[0m\u001b[0;34m.\u001b[0m\u001b[0msend\u001b[0m\u001b[0;34m(\u001b[0m\u001b[0mrequest\u001b[0m\u001b[0;34m,\u001b[0m \u001b[0;34m**\u001b[0m\u001b[0mkwargs\u001b[0m\u001b[0;34m)\u001b[0m\u001b[0;34m\u001b[0m\u001b[0;34m\u001b[0m\u001b[0m\n\u001b[0m\u001b[1;32m    656\u001b[0m \u001b[0;34m\u001b[0m\u001b[0m\n\u001b[1;32m    657\u001b[0m         \u001b[0;31m# Total elapsed time of the request (approximately)\u001b[0m\u001b[0;34m\u001b[0m\u001b[0;34m\u001b[0m\u001b[0m\n",
      "\u001b[0;32m/opt/homebrew/Caskroom/miniforge/base/envs/.venv/lib/python3.9/site-packages/requests/adapters.py\u001b[0m in \u001b[0;36msend\u001b[0;34m(self, request, stream, timeout, verify, cert, proxies)\u001b[0m\n\u001b[1;32m    437\u001b[0m         \u001b[0;32mtry\u001b[0m\u001b[0;34m:\u001b[0m\u001b[0;34m\u001b[0m\u001b[0;34m\u001b[0m\u001b[0m\n\u001b[1;32m    438\u001b[0m             \u001b[0;32mif\u001b[0m \u001b[0;32mnot\u001b[0m \u001b[0mchunked\u001b[0m\u001b[0;34m:\u001b[0m\u001b[0;34m\u001b[0m\u001b[0;34m\u001b[0m\u001b[0m\n\u001b[0;32m--> 439\u001b[0;31m                 resp = conn.urlopen(\n\u001b[0m\u001b[1;32m    440\u001b[0m                     \u001b[0mmethod\u001b[0m\u001b[0;34m=\u001b[0m\u001b[0mrequest\u001b[0m\u001b[0;34m.\u001b[0m\u001b[0mmethod\u001b[0m\u001b[0;34m,\u001b[0m\u001b[0;34m\u001b[0m\u001b[0;34m\u001b[0m\u001b[0m\n\u001b[1;32m    441\u001b[0m                     \u001b[0murl\u001b[0m\u001b[0;34m=\u001b[0m\u001b[0murl\u001b[0m\u001b[0;34m,\u001b[0m\u001b[0;34m\u001b[0m\u001b[0;34m\u001b[0m\u001b[0m\n",
      "\u001b[0;32m/opt/homebrew/Caskroom/miniforge/base/envs/.venv/lib/python3.9/site-packages/urllib3/connectionpool.py\u001b[0m in \u001b[0;36murlopen\u001b[0;34m(self, method, url, body, headers, retries, redirect, assert_same_host, timeout, pool_timeout, release_conn, chunked, body_pos, **response_kw)\u001b[0m\n\u001b[1;32m    697\u001b[0m \u001b[0;34m\u001b[0m\u001b[0m\n\u001b[1;32m    698\u001b[0m             \u001b[0;31m# Make the request on the httplib connection object.\u001b[0m\u001b[0;34m\u001b[0m\u001b[0;34m\u001b[0m\u001b[0m\n\u001b[0;32m--> 699\u001b[0;31m             httplib_response = self._make_request(\n\u001b[0m\u001b[1;32m    700\u001b[0m                 \u001b[0mconn\u001b[0m\u001b[0;34m,\u001b[0m\u001b[0;34m\u001b[0m\u001b[0;34m\u001b[0m\u001b[0m\n\u001b[1;32m    701\u001b[0m                 \u001b[0mmethod\u001b[0m\u001b[0;34m,\u001b[0m\u001b[0;34m\u001b[0m\u001b[0;34m\u001b[0m\u001b[0m\n",
      "\u001b[0;32m/opt/homebrew/Caskroom/miniforge/base/envs/.venv/lib/python3.9/site-packages/urllib3/connectionpool.py\u001b[0m in \u001b[0;36m_make_request\u001b[0;34m(self, conn, method, url, timeout, chunked, **httplib_request_kw)\u001b[0m\n\u001b[1;32m    443\u001b[0m                     \u001b[0;31m# Python 3 (including for exceptions like SystemExit).\u001b[0m\u001b[0;34m\u001b[0m\u001b[0;34m\u001b[0m\u001b[0m\n\u001b[1;32m    444\u001b[0m                     \u001b[0;31m# Otherwise it looks like a bug in the code.\u001b[0m\u001b[0;34m\u001b[0m\u001b[0;34m\u001b[0m\u001b[0m\n\u001b[0;32m--> 445\u001b[0;31m                     \u001b[0msix\u001b[0m\u001b[0;34m.\u001b[0m\u001b[0mraise_from\u001b[0m\u001b[0;34m(\u001b[0m\u001b[0me\u001b[0m\u001b[0;34m,\u001b[0m \u001b[0;32mNone\u001b[0m\u001b[0;34m)\u001b[0m\u001b[0;34m\u001b[0m\u001b[0;34m\u001b[0m\u001b[0m\n\u001b[0m\u001b[1;32m    446\u001b[0m         \u001b[0;32mexcept\u001b[0m \u001b[0;34m(\u001b[0m\u001b[0mSocketTimeout\u001b[0m\u001b[0;34m,\u001b[0m \u001b[0mBaseSSLError\u001b[0m\u001b[0;34m,\u001b[0m \u001b[0mSocketError\u001b[0m\u001b[0;34m)\u001b[0m \u001b[0;32mas\u001b[0m \u001b[0me\u001b[0m\u001b[0;34m:\u001b[0m\u001b[0;34m\u001b[0m\u001b[0;34m\u001b[0m\u001b[0m\n\u001b[1;32m    447\u001b[0m             \u001b[0mself\u001b[0m\u001b[0;34m.\u001b[0m\u001b[0m_raise_timeout\u001b[0m\u001b[0;34m(\u001b[0m\u001b[0merr\u001b[0m\u001b[0;34m=\u001b[0m\u001b[0me\u001b[0m\u001b[0;34m,\u001b[0m \u001b[0murl\u001b[0m\u001b[0;34m=\u001b[0m\u001b[0murl\u001b[0m\u001b[0;34m,\u001b[0m \u001b[0mtimeout_value\u001b[0m\u001b[0;34m=\u001b[0m\u001b[0mread_timeout\u001b[0m\u001b[0;34m)\u001b[0m\u001b[0;34m\u001b[0m\u001b[0;34m\u001b[0m\u001b[0m\n",
      "\u001b[0;32m/opt/homebrew/Caskroom/miniforge/base/envs/.venv/lib/python3.9/site-packages/urllib3/packages/six.py\u001b[0m in \u001b[0;36mraise_from\u001b[0;34m(value, from_value)\u001b[0m\n",
      "\u001b[0;32m/opt/homebrew/Caskroom/miniforge/base/envs/.venv/lib/python3.9/site-packages/urllib3/connectionpool.py\u001b[0m in \u001b[0;36m_make_request\u001b[0;34m(self, conn, method, url, timeout, chunked, **httplib_request_kw)\u001b[0m\n\u001b[1;32m    438\u001b[0m                 \u001b[0;31m# Python 3\u001b[0m\u001b[0;34m\u001b[0m\u001b[0;34m\u001b[0m\u001b[0m\n\u001b[1;32m    439\u001b[0m                 \u001b[0;32mtry\u001b[0m\u001b[0;34m:\u001b[0m\u001b[0;34m\u001b[0m\u001b[0;34m\u001b[0m\u001b[0m\n\u001b[0;32m--> 440\u001b[0;31m                     \u001b[0mhttplib_response\u001b[0m \u001b[0;34m=\u001b[0m \u001b[0mconn\u001b[0m\u001b[0;34m.\u001b[0m\u001b[0mgetresponse\u001b[0m\u001b[0;34m(\u001b[0m\u001b[0;34m)\u001b[0m\u001b[0;34m\u001b[0m\u001b[0;34m\u001b[0m\u001b[0m\n\u001b[0m\u001b[1;32m    441\u001b[0m                 \u001b[0;32mexcept\u001b[0m \u001b[0mBaseException\u001b[0m \u001b[0;32mas\u001b[0m \u001b[0me\u001b[0m\u001b[0;34m:\u001b[0m\u001b[0;34m\u001b[0m\u001b[0;34m\u001b[0m\u001b[0m\n\u001b[1;32m    442\u001b[0m                     \u001b[0;31m# Remove the TypeError from the exception chain in\u001b[0m\u001b[0;34m\u001b[0m\u001b[0;34m\u001b[0m\u001b[0m\n",
      "\u001b[0;32m/opt/homebrew/Caskroom/miniforge/base/envs/.venv/lib/python3.9/http/client.py\u001b[0m in \u001b[0;36mgetresponse\u001b[0;34m(self)\u001b[0m\n\u001b[1;32m   1369\u001b[0m         \u001b[0;32mtry\u001b[0m\u001b[0;34m:\u001b[0m\u001b[0;34m\u001b[0m\u001b[0;34m\u001b[0m\u001b[0m\n\u001b[1;32m   1370\u001b[0m             \u001b[0;32mtry\u001b[0m\u001b[0;34m:\u001b[0m\u001b[0;34m\u001b[0m\u001b[0;34m\u001b[0m\u001b[0m\n\u001b[0;32m-> 1371\u001b[0;31m                 \u001b[0mresponse\u001b[0m\u001b[0;34m.\u001b[0m\u001b[0mbegin\u001b[0m\u001b[0;34m(\u001b[0m\u001b[0;34m)\u001b[0m\u001b[0;34m\u001b[0m\u001b[0;34m\u001b[0m\u001b[0m\n\u001b[0m\u001b[1;32m   1372\u001b[0m             \u001b[0;32mexcept\u001b[0m \u001b[0mConnectionError\u001b[0m\u001b[0;34m:\u001b[0m\u001b[0;34m\u001b[0m\u001b[0;34m\u001b[0m\u001b[0m\n\u001b[1;32m   1373\u001b[0m                 \u001b[0mself\u001b[0m\u001b[0;34m.\u001b[0m\u001b[0mclose\u001b[0m\u001b[0;34m(\u001b[0m\u001b[0;34m)\u001b[0m\u001b[0;34m\u001b[0m\u001b[0;34m\u001b[0m\u001b[0m\n",
      "\u001b[0;32m/opt/homebrew/Caskroom/miniforge/base/envs/.venv/lib/python3.9/http/client.py\u001b[0m in \u001b[0;36mbegin\u001b[0;34m(self)\u001b[0m\n\u001b[1;32m    317\u001b[0m         \u001b[0;31m# read until we get a non-100 response\u001b[0m\u001b[0;34m\u001b[0m\u001b[0;34m\u001b[0m\u001b[0m\n\u001b[1;32m    318\u001b[0m         \u001b[0;32mwhile\u001b[0m \u001b[0;32mTrue\u001b[0m\u001b[0;34m:\u001b[0m\u001b[0;34m\u001b[0m\u001b[0;34m\u001b[0m\u001b[0m\n\u001b[0;32m--> 319\u001b[0;31m             \u001b[0mversion\u001b[0m\u001b[0;34m,\u001b[0m \u001b[0mstatus\u001b[0m\u001b[0;34m,\u001b[0m \u001b[0mreason\u001b[0m \u001b[0;34m=\u001b[0m \u001b[0mself\u001b[0m\u001b[0;34m.\u001b[0m\u001b[0m_read_status\u001b[0m\u001b[0;34m(\u001b[0m\u001b[0;34m)\u001b[0m\u001b[0;34m\u001b[0m\u001b[0;34m\u001b[0m\u001b[0m\n\u001b[0m\u001b[1;32m    320\u001b[0m             \u001b[0;32mif\u001b[0m \u001b[0mstatus\u001b[0m \u001b[0;34m!=\u001b[0m \u001b[0mCONTINUE\u001b[0m\u001b[0;34m:\u001b[0m\u001b[0;34m\u001b[0m\u001b[0;34m\u001b[0m\u001b[0m\n\u001b[1;32m    321\u001b[0m                 \u001b[0;32mbreak\u001b[0m\u001b[0;34m\u001b[0m\u001b[0;34m\u001b[0m\u001b[0m\n",
      "\u001b[0;32m/opt/homebrew/Caskroom/miniforge/base/envs/.venv/lib/python3.9/http/client.py\u001b[0m in \u001b[0;36m_read_status\u001b[0;34m(self)\u001b[0m\n\u001b[1;32m    278\u001b[0m \u001b[0;34m\u001b[0m\u001b[0m\n\u001b[1;32m    279\u001b[0m     \u001b[0;32mdef\u001b[0m \u001b[0m_read_status\u001b[0m\u001b[0;34m(\u001b[0m\u001b[0mself\u001b[0m\u001b[0;34m)\u001b[0m\u001b[0;34m:\u001b[0m\u001b[0;34m\u001b[0m\u001b[0;34m\u001b[0m\u001b[0m\n\u001b[0;32m--> 280\u001b[0;31m         \u001b[0mline\u001b[0m \u001b[0;34m=\u001b[0m \u001b[0mstr\u001b[0m\u001b[0;34m(\u001b[0m\u001b[0mself\u001b[0m\u001b[0;34m.\u001b[0m\u001b[0mfp\u001b[0m\u001b[0;34m.\u001b[0m\u001b[0mreadline\u001b[0m\u001b[0;34m(\u001b[0m\u001b[0m_MAXLINE\u001b[0m \u001b[0;34m+\u001b[0m \u001b[0;36m1\u001b[0m\u001b[0;34m)\u001b[0m\u001b[0;34m,\u001b[0m \u001b[0;34m\"iso-8859-1\"\u001b[0m\u001b[0;34m)\u001b[0m\u001b[0;34m\u001b[0m\u001b[0;34m\u001b[0m\u001b[0m\n\u001b[0m\u001b[1;32m    281\u001b[0m         \u001b[0;32mif\u001b[0m \u001b[0mlen\u001b[0m\u001b[0;34m(\u001b[0m\u001b[0mline\u001b[0m\u001b[0;34m)\u001b[0m \u001b[0;34m>\u001b[0m \u001b[0m_MAXLINE\u001b[0m\u001b[0;34m:\u001b[0m\u001b[0;34m\u001b[0m\u001b[0;34m\u001b[0m\u001b[0m\n\u001b[1;32m    282\u001b[0m             \u001b[0;32mraise\u001b[0m \u001b[0mLineTooLong\u001b[0m\u001b[0;34m(\u001b[0m\u001b[0;34m\"status line\"\u001b[0m\u001b[0;34m)\u001b[0m\u001b[0;34m\u001b[0m\u001b[0;34m\u001b[0m\u001b[0m\n",
      "\u001b[0;32m/opt/homebrew/Caskroom/miniforge/base/envs/.venv/lib/python3.9/socket.py\u001b[0m in \u001b[0;36mreadinto\u001b[0;34m(self, b)\u001b[0m\n\u001b[1;32m    702\u001b[0m         \u001b[0;32mwhile\u001b[0m \u001b[0;32mTrue\u001b[0m\u001b[0;34m:\u001b[0m\u001b[0;34m\u001b[0m\u001b[0;34m\u001b[0m\u001b[0m\n\u001b[1;32m    703\u001b[0m             \u001b[0;32mtry\u001b[0m\u001b[0;34m:\u001b[0m\u001b[0;34m\u001b[0m\u001b[0;34m\u001b[0m\u001b[0m\n\u001b[0;32m--> 704\u001b[0;31m                 \u001b[0;32mreturn\u001b[0m \u001b[0mself\u001b[0m\u001b[0;34m.\u001b[0m\u001b[0m_sock\u001b[0m\u001b[0;34m.\u001b[0m\u001b[0mrecv_into\u001b[0m\u001b[0;34m(\u001b[0m\u001b[0mb\u001b[0m\u001b[0;34m)\u001b[0m\u001b[0;34m\u001b[0m\u001b[0;34m\u001b[0m\u001b[0m\n\u001b[0m\u001b[1;32m    705\u001b[0m             \u001b[0;32mexcept\u001b[0m \u001b[0mtimeout\u001b[0m\u001b[0;34m:\u001b[0m\u001b[0;34m\u001b[0m\u001b[0;34m\u001b[0m\u001b[0m\n\u001b[1;32m    706\u001b[0m                 \u001b[0mself\u001b[0m\u001b[0;34m.\u001b[0m\u001b[0m_timeout_occurred\u001b[0m \u001b[0;34m=\u001b[0m \u001b[0;32mTrue\u001b[0m\u001b[0;34m\u001b[0m\u001b[0;34m\u001b[0m\u001b[0m\n",
      "\u001b[0;32m/opt/homebrew/Caskroom/miniforge/base/envs/.venv/lib/python3.9/ssl.py\u001b[0m in \u001b[0;36mrecv_into\u001b[0;34m(self, buffer, nbytes, flags)\u001b[0m\n\u001b[1;32m   1239\u001b[0m                   \u001b[0;34m\"non-zero flags not allowed in calls to recv_into() on %s\"\u001b[0m \u001b[0;34m%\u001b[0m\u001b[0;34m\u001b[0m\u001b[0;34m\u001b[0m\u001b[0m\n\u001b[1;32m   1240\u001b[0m                   self.__class__)\n\u001b[0;32m-> 1241\u001b[0;31m             \u001b[0;32mreturn\u001b[0m \u001b[0mself\u001b[0m\u001b[0;34m.\u001b[0m\u001b[0mread\u001b[0m\u001b[0;34m(\u001b[0m\u001b[0mnbytes\u001b[0m\u001b[0;34m,\u001b[0m \u001b[0mbuffer\u001b[0m\u001b[0;34m)\u001b[0m\u001b[0;34m\u001b[0m\u001b[0;34m\u001b[0m\u001b[0m\n\u001b[0m\u001b[1;32m   1242\u001b[0m         \u001b[0;32melse\u001b[0m\u001b[0;34m:\u001b[0m\u001b[0;34m\u001b[0m\u001b[0;34m\u001b[0m\u001b[0m\n\u001b[1;32m   1243\u001b[0m             \u001b[0;32mreturn\u001b[0m \u001b[0msuper\u001b[0m\u001b[0;34m(\u001b[0m\u001b[0;34m)\u001b[0m\u001b[0;34m.\u001b[0m\u001b[0mrecv_into\u001b[0m\u001b[0;34m(\u001b[0m\u001b[0mbuffer\u001b[0m\u001b[0;34m,\u001b[0m \u001b[0mnbytes\u001b[0m\u001b[0;34m,\u001b[0m \u001b[0mflags\u001b[0m\u001b[0;34m)\u001b[0m\u001b[0;34m\u001b[0m\u001b[0;34m\u001b[0m\u001b[0m\n",
      "\u001b[0;32m/opt/homebrew/Caskroom/miniforge/base/envs/.venv/lib/python3.9/ssl.py\u001b[0m in \u001b[0;36mread\u001b[0;34m(self, len, buffer)\u001b[0m\n\u001b[1;32m   1097\u001b[0m         \u001b[0;32mtry\u001b[0m\u001b[0;34m:\u001b[0m\u001b[0;34m\u001b[0m\u001b[0;34m\u001b[0m\u001b[0m\n\u001b[1;32m   1098\u001b[0m             \u001b[0;32mif\u001b[0m \u001b[0mbuffer\u001b[0m \u001b[0;32mis\u001b[0m \u001b[0;32mnot\u001b[0m \u001b[0;32mNone\u001b[0m\u001b[0;34m:\u001b[0m\u001b[0;34m\u001b[0m\u001b[0;34m\u001b[0m\u001b[0m\n\u001b[0;32m-> 1099\u001b[0;31m                 \u001b[0;32mreturn\u001b[0m \u001b[0mself\u001b[0m\u001b[0;34m.\u001b[0m\u001b[0m_sslobj\u001b[0m\u001b[0;34m.\u001b[0m\u001b[0mread\u001b[0m\u001b[0;34m(\u001b[0m\u001b[0mlen\u001b[0m\u001b[0;34m,\u001b[0m \u001b[0mbuffer\u001b[0m\u001b[0;34m)\u001b[0m\u001b[0;34m\u001b[0m\u001b[0;34m\u001b[0m\u001b[0m\n\u001b[0m\u001b[1;32m   1100\u001b[0m             \u001b[0;32melse\u001b[0m\u001b[0;34m:\u001b[0m\u001b[0;34m\u001b[0m\u001b[0;34m\u001b[0m\u001b[0m\n\u001b[1;32m   1101\u001b[0m                 \u001b[0;32mreturn\u001b[0m \u001b[0mself\u001b[0m\u001b[0;34m.\u001b[0m\u001b[0m_sslobj\u001b[0m\u001b[0;34m.\u001b[0m\u001b[0mread\u001b[0m\u001b[0;34m(\u001b[0m\u001b[0mlen\u001b[0m\u001b[0;34m)\u001b[0m\u001b[0;34m\u001b[0m\u001b[0;34m\u001b[0m\u001b[0m\n",
      "\u001b[0;31mKeyboardInterrupt\u001b[0m: "
     ]
    }
   ],
   "source": [
    "import requests\n",
    "\n",
    "API_URL = \"https://api-inference.huggingface.co/models/facebook/bart-large-cnn\"\n",
    "headers = {\"Authorization\": \"\"}\n",
    "\n",
    "def query(payload):\n",
    "    response = requests.post(API_URL, headers=headers, json=payload)\n",
    "    return response.json()\n",
    "\n",
    "outputs = []\n",
    "for chunk in chunks:\n",
    "    output = query({\n",
    "    \"inputs\": chunk})\n",
    "    outputs.append(output[0][\"summary_text\"])"
   ]
  },
  {
   "cell_type": "code",
   "execution_count": null,
   "id": "a0c6e25a",
   "metadata": {},
   "outputs": [],
   "source": [
    "outputs"
   ]
  },
  {
   "cell_type": "code",
   "execution_count": null,
   "id": "17a3d281",
   "metadata": {},
   "outputs": [],
   "source": []
  },
  {
   "cell_type": "code",
   "execution_count": null,
   "id": "be480805",
   "metadata": {},
   "outputs": [],
   "source": [
    "output[0][\"summary_text\"]"
   ]
  },
  {
   "cell_type": "code",
   "execution_count": null,
   "id": "a1cbcdbb",
   "metadata": {},
   "outputs": [],
   "source": [
    "## DOCUMENT\n",
    "print(textstat.flesch_kincaid_grade(x))\n",
    "print(textstat.flesch_reading_ease(x))\n",
    "print(textstat.smog_index(x))\n",
    "print(textstat.gunning_fog(x))"
   ]
  },
  {
   "cell_type": "code",
   "execution_count": null,
   "id": "3c2c9457",
   "metadata": {},
   "outputs": [],
   "source": [
    "## SUMMARY\n",
    "summary = \"\".join(outputs)\n",
    "print(textstat.flesch_kincaid_grade(summary))\n",
    "print(textstat.flesch_reading_ease(summary))\n",
    "print(textstat.smog_index(summary))\n",
    "print(textstat.gunning_fog(summary))"
   ]
  },
  {
   "cell_type": "code",
   "execution_count": null,
   "id": "6d8097ec",
   "metadata": {},
   "outputs": [],
   "source": [
    "import os\n",
    "import openai\n",
    "\n",
    "openai.api_key = \"\"\n",
    "\n"
   ]
  },
  {
   "cell_type": "code",
   "execution_count": null,
   "id": "b7dcb7b8",
   "metadata": {},
   "outputs": [],
   "source": [
    "x = response['choices'][0][\"text\"]\n",
    "x\n",
    "# import json\n",
    "# json.loads(response)"
   ]
  },
  {
   "cell_type": "code",
   "execution_count": null,
   "id": "8ffbae88",
   "metadata": {},
   "outputs": [],
   "source": [
    "outputs_openai = []\n",
    "for chunk in chunks:\n",
    "    prompt = \"My second grader asked me what this passage means:\\n\\\"\\\"\\\"\\n\" + chunk + \"\\n\\\"\\\"\\\"\\nI rephrased it for him, in plain language a second grader can understand:\\n\\\"\\\"\\\"\\n\"\n",
    "    response = openai.Completion.create(\n",
    "      engine=\"davinci\",\n",
    "      prompt=prompt,\n",
    "      temperature=0.5,\n",
    "      max_tokens=110,\n",
    "      top_p=1,\n",
    "      best_of=2,\n",
    "      frequency_penalty=0.2,\n",
    "      presence_penalty=0,\n",
    "      stop=[\"\\\"\\\"\\\"\"]\n",
    "    )\n",
    "    outputs_openai.append(response['choices'][0][\"text\"])\n",
    "\n",
    "    \n"
   ]
  },
  {
   "cell_type": "code",
   "execution_count": null,
   "id": "2d8a90e5",
   "metadata": {},
   "outputs": [],
   "source": [
    "outputs_openai"
   ]
  },
  {
   "cell_type": "code",
   "execution_count": null,
   "id": "6c33f2fb",
   "metadata": {},
   "outputs": [],
   "source": [
    "outputs_openai = \"\".join(outputs_openai)\n",
    "print(textstat.flesch_kincaid_grade(outputs_openai))\n",
    "print(textstat.flesch_reading_ease(outputs_openai))\n",
    "print(textstat.smog_index(outputs_openai))\n",
    "print(textstat.gunning_fog(outputs_openai))"
   ]
  },
  {
   "cell_type": "code",
   "execution_count": 73,
   "id": "15d4eef0",
   "metadata": {},
   "outputs": [],
   "source": [
    "y = \"\"\"THE HILL'S PRIVACY POLICY \n",
    "\n",
    "This Privacy Policy is applicable to The Hill's Web site, thehill.com (the \"Site\"), and all Hill web sites. This Privacy Policy explains how we collect information from you and other users of the Site and how we use such information. \n",
    "\n",
    "||| The Information We Collect and Use \n",
    "\n",
    "Non-personally identifiable information \n",
    "\n",
    "We may collect and use non-personally identifiable information and data from you when you are visiting the Site through the standard operation of our Internet servers. Non-personally identifiable information collected from you may include user Internet Protocol (IP) addresses, browser types, domain names, and anonymous statistical data regarding your use of the Site. For example, we can tell which Internet Service Provider our visitors use, but not the names, addresses or other information about our visitors that would allow us to identify particular visitors to the Site. \n",
    "\n",
    "|||The Site also collects information through the use of \"cookies.\" Cookies are small text files that a website can use to recognize repeat users, facilitate the user's ongoing access to and use of a website, allow the site to track usage behavior and compile aggregate data that will allow content improvements and targeted advertising. Cookies work by assigning a unique number to the user that has no meaning outside the assigning site. If you do not want information collected from you through our use of cookies, there is a simple procedure in most browsers that allows you to deny or accept the cookie feature; however, you should note that cookies may be necessary to provide you with certain features available on the Site. \n",
    "\n",
    "|||Personally Identifiable Information \n",
    "\n",
    "We collect personally identifiable information about you when you specifically and knowingly provide such information voluntarily on the Site, including, but not limited to, during the following interactions: (1) when you register on the Site and when you later log-on with your user name and password; (2) when you sign-up to subscribe to a service, a newsletter, or ask to be added to our mailing lists for other products or services; (3) when you place an order for products or services; (4) when you participate in a promotional offer; (5) when you provide feedback in an online survey; (6) when you submit other content and suggestions. \n",
    "\n",
    "|||In each of the instances above, we typically ask for some or all of the following information: your full name, e-mail address, phone number, physical mailing address, the type of business you are in, product preference information, any applicable identification number or password that we may require, as well as other similar information that is needed to register or subscribe you to services or offers. On occasion, we may ask for additional information to enable us to provide you with access to and use of certain other information, materials and services. \n",
    "\n",
    "|||The personally identifiable information you provide to us when using the Site may be used to provide products and services to you, to enhance your experience at the Site, and, if applicable, to enhance your experience as a subscriber to The Hill's products and services. \n",
    "\n",
    "|||We may from time to time use your personally identifiable information to notify you of special offers and products and services from The Hill and/or from third parties that we think may be of interest to you. It is possible that we may rent, sell or otherwise transfer to third parties personally identifiable information about you. This might include third parties such as service providers that analyze data, process transactions; advertisers; sponsors or other third parties that participate in or administer our promotions, sweepstakes, surveys or provide marketing or promotional assistance or similar such services. At any time, you can contact The Hill to request that we not share your personally identifiable information with third parties, as set forth in greater detail below. \n",
    "\n",
    "|||We may employ independent contractors, vendors and suppliers (collectively, \"Outside Contractors\") to provide specific services and products related to The Hill and the Site, such as providing credit card processing and fraud screening, order fulfillment and shipment, mailing of The Hill publications and other materials, hosting and maintaining the Site, and developing applications for the Site. These Outside Contractors may sometimes have limited access to information collected from you, including your personally identifiable information, in the course of providing products or services to us. Access to your personally identifiable information by these contractors is limited to the information reasonably necessary in order for these Outside Contractors to perform their limited function for us. We also require that these contractors (i) protect the privacy of your personally identifiable information consistent with this Privacy Policy, and (ii) not use or disclose your personally identifiable information for any purpose other than providing us with products or services for which we contracted. \n",
    "\n",
    "|||The Hill may merge your information collected on the Site with similar data obtained from third parties. We may use this enhanced personally identifiable information to notify you of special offers, updated information and new products and services from The Hill. \n",
    "\n",
    "|||Other unique circumstances may arise where we are required to disclose your personal information to third parties, such as in connection with a corporate transaction where all or a portion of our business or assets (including our associated customer lists containing your personal information) are sold or transferred, or if disclosure is required by law or pursuant to judicial or governmental investigations or proceedings. \n",
    "\n",
    "|||You should be aware that if you voluntarily disclose personally identifiable information in an e-mail or other communications with third parties listed on the Sites or in other materials, that information, along with any other information disclosed in your communication, can be collected and correlated and used by such third parties and may result in your receiving unsolicited messages from other persons. Such collection, correlation, use and messages are beyond our control. \n",
    "\n",
    "||| Our Commitment to Data Security \n",
    "\n",
    "The Hill takes every effort to protect against unauthorized access to your personal information, and has put in place commercially reasonable physical, electronic, and managerial procedures to safeguard and secure the information we collect on the Site. \n",
    "\n",
    "|||Notwithstanding the above commitment to protect your information from loss, misuse or alteration by third parties, you should be aware that there is always some risk involved in transmitting information over the Internet. Additionally, there also is some risk our security systems could be circumvented or breached. As a result, while we strive to protect your information, we cannot ensure or warrant the security and privacy of any information you transmit to us, and you do so at your own risk. \n",
    "\n",
    "||| Opt-out \n",
    "\n",
    "You may at any time opt-out of receiving promotional communications from The Hill or third parties at any time by contacting our Information Privacy Manager at the address below. Please note that if you decide to opt-out of receiving promotional information or other communications after you have previously opted-in, your change in preference will only affect future contacts; if the information already has been provided to third parties, they may continue to use it. \n",
    "\n",
    "|||Even if you do not opt-in to receive promotional information or you have opted-in and then later choose to opt-out, we reserve the right to contact you as necessary in our sole discretion regarding The Hill, any request you have made for services or products from The Hill, changes to this Privacy Policy and any other matters that may be relevant to the information we collect. \n",
    "\n",
    "||| Correcting Information \n",
    "\n",
    "You are responsible for providing accurate information when making purchases, registering with any portions of the Site that require registration, or performing other functions that might require you to submit personally identifiable information to the Site. If you wish to correct any personally identifiable information you have provided to us in this manner, you may do so by contacting our Information Privacy Manager at the address below.\n",
    "\n",
    "||| How To Contact Us \n",
    "\n",
    "If you would like to contact The Hill for any reason regarding our privacy practices, please write or e-mail us at the following address: \n",
    "\n",
    "Mailing Address: \n",
    "\n",
    "The Hill \n",
    "\n",
    "Information Privacy Manager \n",
    "\n",
    "1625 K St. NW Suite 900 \n",
    "\n",
    "Washington, DC 20006 \n",
    "\n",
    "e-mail: help@thehill.com \n",
    "\n",
    "||| Changes To The Privacy Policy \n",
    "\n",
    "This Privacy Policy is effective as of February 26th, 2014. We reserve the right to change this Privacy Policy at any time by notifying users. We may notify you by posting a notice on the Site or by contacting you through electronic mail or other means. Your continued use of the Site following the posting of changes to this Privacy Policy means you accept those changes. \n",
    "\n",
    "|||What If You Do Not Agree To The Terms Of This Privacy Policy? \n",
    "\n",
    "As a subscriber to the Site, or otherwise by using the Site, you signify that you agree to this Privacy Policy. If you do not agree to this Privacy Policy, please do not make any use of the Site.\"\"\""
   ]
  },
  {
   "cell_type": "code",
   "execution_count": 74,
   "id": "65a5f3a7",
   "metadata": {},
   "outputs": [],
   "source": [
    "doc = nlp(y)"
   ]
  },
  {
   "cell_type": "code",
   "execution_count": 75,
   "id": "6c07e2a0",
   "metadata": {},
   "outputs": [
    {
     "data": {
      "text/plain": [
       "60"
      ]
     },
     "execution_count": 75,
     "metadata": {},
     "output_type": "execute_result"
    }
   ],
   "source": [
    "num_sentences = len(doc.sentences)\n",
    "num_sentences"
   ]
  },
  {
   "cell_type": "code",
   "execution_count": 76,
   "id": "5aace701",
   "metadata": {},
   "outputs": [
    {
     "name": "stdout",
     "output_type": "stream",
     "text": [
      "60\n",
      "[\"THE HILL'S PRIVACY POLICY\", 'This Privacy Policy is applicable to The Hill \\'s Web site , thehill.com ( the \" Site \" ) , and all Hill web sites .', 'This Privacy Policy explains how we collect information from you and other users of the Site and how we use such information .', '|||', 'The Information We Collect and Use', 'Non-personally identifiable information', 'We may collect and use non-personally identifiable information and data from you when you are visiting the Site through the standard operation of our Internet servers .', 'Non-personally identifiable information collected from you may include user Internet Protocol ( IP ) addresses , browser types , domain names , and anonymous statistical data regarding your use of the Site .', 'For example , we can tell which Internet Service Provider our visitors use , but not the names , addresses or other information about our visitors that would allow us to identify particular visitors to the Site .', '||| The Site also collects information through the use of \" cookies . \"', \"Cookies are small text files that a website can use to recognize repeat users , facilitate the user 's ongoing access to and use of a website , allow the site to track usage behavior and compile aggregate data that will allow content improvements and targeted advertising .\", 'Cookies work by assigning a unique number to the user that has no meaning outside the assigning site .', 'If you do not want information collected from you through our use of cookies , there is a simple procedure in most browsers that allows you to deny or accept the cookie feature ; however , you should note that cookies may be necessary to provide you with certain features available on the Site .', '||| Personally Identifiable Information', 'We collect personally identifiable information about you when you specifically and knowingly provide such information voluntarily on the Site , including , but not limited to , during the following interactions : ( 1 ) when you register on the Site and when you later log-on with your user name and password ; ( 2 ) when you sign - up to subscribe to a service , a newsletter , or ask to be added to our mailing lists for other products or services ; ( 3 ) when you place an order for products or services ; ( 4 ) when you participate in a promotional offer ; ( 5 ) when you provide feedback in an online survey ; ( 6 ) when you submit other content and suggestions .', '||| In each of the instances above , we typically ask for some or all of the following information : your full name , e-mail address , phone number , physical mailing address , the type of business you are in , product preference information , any applicable identification number or password that we may require , as well as other similar information that is needed to register or subscribe you to services or offers .', 'On occasion , we may ask for additional information to enable us to provide you with access to and use of certain other information , materials and services .', \"||| The personally identifiable information you provide to us when using the Site may be used to provide products and services to you , to enhance your experience at the Site , and , if applicable , to enhance your experience as a subscriber to The Hill 's products and services .\", '||| We may from time to time use your personally identifiable information to notify you of special offers and products and services from The Hill and / or from third parties that we think may be of interest to you .', 'It is possible that we may rent , sell or otherwise transfer to third parties personally identifiable information about you .', 'This might include third parties such as service providers that analyze data , process transactions ; advertisers ; sponsors or other third parties that participate in or administer our promotions , sweepstakes , surveys or provide marketing or promotional assistance or similar such services .', 'At any time , you can contact', 'The Hill to request that we not share your personally identifiable information with third parties , as set forth in greater detail below .', '||| We may employ independent contractors , vendors and suppliers ( collectively , \" Outside Contractors \" ) to provide specific services and products related to The Hill and the Site , such as providing credit card processing and fraud screening , order fulfillment and shipment , mailing of The Hill publications and other materials , hosting and maintaining the Site , and developing applications for the Site .', 'These Outside Contractors may sometimes have limited access to information collected from you , including your personally identifiable information , in the course of providing products or services to us .', 'Access to your personally identifiable information by these contractors is limited to the information reasonably necessary in order for these Outside Contractors to perform their limited function for us .', 'We also require that these contractors ( i ) protect the privacy of your personally identifiable information consistent with this Privacy Policy , and ( ii ) not use or disclose your personally identifiable information for any purpose other than providing us with products or services for which we contracted .', '||| The Hill may merge your information collected on the Site with similar data obtained from third parties .', 'We may use this enhanced personally identifiable information to notify you of special offers , updated information and new products and services from The Hill .', '||| Other unique circumstances may arise where we are required to disclose your personal information to third parties , such as in connection with a corporate transaction where all or a portion of our business or assets ( including our associated customer lists containing your personal information ) are sold or transferred , or if disclosure is required by law or pursuant to judicial or governmental investigations or proceedings .', '||| You should be aware that if you voluntarily disclose personally identifiable information in an e-mail or other communications with third parties listed on the Sites or in other materials , that information , along with any other information disclosed in your communication , can be collected and correlated and used by such third parties and may result in your receiving unsolicited messages from other persons .', 'Such collection , correlation , use and messages are beyond our control .', '||| Our Commitment to Data Security', 'The Hill takes every effort to protect against unauthorized access to your personal information , and has put in place commercially reasonable physical , electronic , and managerial procedures to safeguard and secure the information we collect on the Site .', '||| Notwithstanding the above commitment to protect your information from loss , misuse or alteration by third parties , you should be aware that there is always some risk involved in transmitting information over the Internet .', 'Additionally , there also is some risk our security systems could be circumvented or breached .', 'As a result , while we strive to protect your information , we cannot ensure or warrant the security and privacy of any information you transmit to us , and you do so at your own risk .', '||| Opt-out', 'You may at any time opt-out of receiving promotional communications from The Hill or third parties at any time by contacting our Information Privacy Manager at the address below .', 'Please note that if you decide to opt-out of receiving promotional information or other communications after you have previously opted - in , your change in preference will only affect future contacts ; if the information already has been provided to third parties , they may continue to use it .', '||| Even if you do not opt- in to receive promotional information or you have opted - in and then later choose to opt-out , we reserve the right to contact you as necessary in our sole discretion regarding The Hill , any request you have made for services or products from The Hill , changes to this Privacy Policy and any other matters that may be relevant to the information we collect .', '||| Correcting Information', 'You are responsible for providing accurate information when making purchases , registering with any portions of the Site that require registration , or performing other functions that might require you to submit personally identifiable information to the Site .', 'If you wish to correct any personally identifiable information you have provided to us in this manner , you may do so by contacting our Information Privacy Manager at the address below .', '||| How To Contact Us', 'If you would like to contact The Hill for any reason regarding our privacy practices , please write or e-mail us at the following address :', 'Mailing Address :', 'The Hill', 'Information Privacy Manager', '1625 K St. NW Suite 900', 'Washington , DC 20006', 'e-mail : help@thehill.com', '||| Changes To The Privacy Policy', 'This Privacy Policy is effective as of February 26th , 2014 .', 'We reserve the right to change this Privacy Policy at any time by notifying users .', 'We may notify you by posting a notice on the Site or by contacting you through electronic mail or other means .', 'Your continued use of the Site following the posting of changes to this Privacy Policy means you accept those changes .', '||| What If You Do Not Agree To The Terms Of This Privacy Policy ?', 'As a subscriber to the Site , or otherwise by using the Site , you signify that you agree to this Privacy Policy .', 'If you do not agree to this Privacy Policy , please do not make any use of the Site .']\n"
     ]
    }
   ],
   "source": [
    "sentences = [sent.tokens for sent in doc.sentences]\n",
    "print(len(sentences))\n",
    "sents = []\n",
    "text = []\n",
    "for tokens in sentences:\n",
    "    text.append([token.text for token in tokens])\n",
    "sentences = [\" \".join(sent) for sent in text]\n",
    "print(sentences)"
   ]
  },
  {
   "cell_type": "code",
   "execution_count": 77,
   "id": "50a80164",
   "metadata": {},
   "outputs": [],
   "source": [
    "max_chunk_length = 512 #for default summarization pipeline\n",
    "chunks = []\n",
    "current = 0\n",
    "for s in sentences:\n",
    "    if (len(chunks) == current + 1) and (len(chunks[current]) + len(s.split(' ')) <= max_chunk_length):\n",
    "            chunks[current].extend(s.split(' ')) #put shorter sentence in current chunk\n",
    "    elif (len(chunks) == current + 1) and (len(chunks[current]) + len(s.split(' ')) > max_chunk_length):\n",
    "            current += 1 #new chunk\n",
    "            chunks.append(s.split(' ')) #put longer sentence in new chunk\n",
    "    else:\n",
    "        chunks.append(s.split(' ')) #append words of sentence to new chunk\n",
    "        \n",
    "l = len(chunks)\n",
    "for i in range (l): #index to loop through the chunks\n",
    "    chunks[i] = '  '.join(chunks[i])\n",
    "    \n",
    "\n"
   ]
  },
  {
   "cell_type": "code",
   "execution_count": 78,
   "id": "f4b5d939",
   "metadata": {},
   "outputs": [
    {
     "name": "stdout",
     "output_type": "stream",
     "text": [
      "THE  HILL'S  PRIVACY  POLICY  This  Privacy  Policy  is  applicable  to  The  Hill  's  Web  site  ,  thehill.com  (  the  \"  Site  \"  )  ,  and  all  Hill  web  sites  .  This  Privacy  Policy  explains  how  we  collect  information  from  you  and  other  users  of  the  Site  and  how  we  use  such  information  .  |||  The  Information  We  Collect  and  Use  Non-personally  identifiable  information  We  may  collect  and  use  non-personally  identifiable  information  and  data  from  you  when  you  are  visiting  the  Site  through  the  standard  operation  of  our  Internet  servers  .  Non-personally  identifiable  information  collected  from  you  may  include  user  Internet  Protocol  (  IP  )  addresses  ,  browser  types  ,  domain  names  ,  and  anonymous  statistical  data  regarding  your  use  of  the  Site  .  For  example  ,  we  can  tell  which  Internet  Service  Provider  our  visitors  use  ,  but  not  the  names  ,  addresses  or  other  information  about  our  visitors  that  would  allow  us  to  identify  particular  visitors  to  the  Site  .  |||  The  Site  also  collects  information  through  the  use  of  \"  cookies  .  \"  Cookies  are  small  text  files  that  a  website  can  use  to  recognize  repeat  users  ,  facilitate  the  user  's  ongoing  access  to  and  use  of  a  website  ,  allow  the  site  to  track  usage  behavior  and  compile  aggregate  data  that  will  allow  content  improvements  and  targeted  advertising  .  Cookies  work  by  assigning  a  unique  number  to  the  user  that  has  no  meaning  outside  the  assigning  site  .  If  you  do  not  want  information  collected  from  you  through  our  use  of  cookies  ,  there  is  a  simple  procedure  in  most  browsers  that  allows  you  to  deny  or  accept  the  cookie  feature  ;  however  ,  you  should  note  that  cookies  may  be  necessary  to  provide  you  with  certain  features  available  on  the  Site  .  |||  Personally  Identifiable  Information  We  collect  personally  identifiable  information  about  you  when  you  specifically  and  knowingly  provide  such  information  voluntarily  on  the  Site  ,  including  ,  but  not  limited  to  ,  during  the  following  interactions  :  (  1  )  when  you  register  on  the  Site  and  when  you  later  log-on  with  your  user  name  and  password  ;  (  2  )  when  you  sign  -  up  to  subscribe  to  a  service  ,  a  newsletter  ,  or  ask  to  be  added  to  our  mailing  lists  for  other  products  or  services  ;  (  3  )  when  you  place  an  order  for  products  or  services  ;  (  4  )  when  you  participate  in  a  promotional  offer  ;  (  5  )  when  you  provide  feedback  in  an  online  survey  ;  (  6  )  when  you  submit  other  content  and  suggestions  .  |||  In  each  of  the  instances  above  ,  we  typically  ask  for  some  or  all  of  the  following  information  :  your  full  name  ,  e-mail  address  ,  phone  number  ,  physical  mailing  address  ,  the  type  of  business  you  are  in  ,  product  preference  information  ,  any  applicable  identification  number  or  password  that  we  may  require  ,  as  well  as  other  similar  information  that  is  needed  to  register  or  subscribe  you  to  services  or  offers  .\n",
      "On  occasion  ,  we  may  ask  for  additional  information  to  enable  us  to  provide  you  with  access  to  and  use  of  certain  other  information  ,  materials  and  services  .  |||  The  personally  identifiable  information  you  provide  to  us  when  using  the  Site  may  be  used  to  provide  products  and  services  to  you  ,  to  enhance  your  experience  at  the  Site  ,  and  ,  if  applicable  ,  to  enhance  your  experience  as  a  subscriber  to  The  Hill  's  products  and  services  .  |||  We  may  from  time  to  time  use  your  personally  identifiable  information  to  notify  you  of  special  offers  and  products  and  services  from  The  Hill  and  /  or  from  third  parties  that  we  think  may  be  of  interest  to  you  .  It  is  possible  that  we  may  rent  ,  sell  or  otherwise  transfer  to  third  parties  personally  identifiable  information  about  you  .  This  might  include  third  parties  such  as  service  providers  that  analyze  data  ,  process  transactions  ;  advertisers  ;  sponsors  or  other  third  parties  that  participate  in  or  administer  our  promotions  ,  sweepstakes  ,  surveys  or  provide  marketing  or  promotional  assistance  or  similar  such  services  .  At  any  time  ,  you  can  contact  The  Hill  to  request  that  we  not  share  your  personally  identifiable  information  with  third  parties  ,  as  set  forth  in  greater  detail  below  .  |||  We  may  employ  independent  contractors  ,  vendors  and  suppliers  (  collectively  ,  \"  Outside  Contractors  \"  )  to  provide  specific  services  and  products  related  to  The  Hill  and  the  Site  ,  such  as  providing  credit  card  processing  and  fraud  screening  ,  order  fulfillment  and  shipment  ,  mailing  of  The  Hill  publications  and  other  materials  ,  hosting  and  maintaining  the  Site  ,  and  developing  applications  for  the  Site  .  These  Outside  Contractors  may  sometimes  have  limited  access  to  information  collected  from  you  ,  including  your  personally  identifiable  information  ,  in  the  course  of  providing  products  or  services  to  us  .  Access  to  your  personally  identifiable  information  by  these  contractors  is  limited  to  the  information  reasonably  necessary  in  order  for  these  Outside  Contractors  to  perform  their  limited  function  for  us  .  We  also  require  that  these  contractors  (  i  )  protect  the  privacy  of  your  personally  identifiable  information  consistent  with  this  Privacy  Policy  ,  and  (  ii  )  not  use  or  disclose  your  personally  identifiable  information  for  any  purpose  other  than  providing  us  with  products  or  services  for  which  we  contracted  .  |||  The  Hill  may  merge  your  information  collected  on  the  Site  with  similar  data  obtained  from  third  parties  .  We  may  use  this  enhanced  personally  identifiable  information  to  notify  you  of  special  offers  ,  updated  information  and  new  products  and  services  from  The  Hill  .\n",
      "|||  Other  unique  circumstances  may  arise  where  we  are  required  to  disclose  your  personal  information  to  third  parties  ,  such  as  in  connection  with  a  corporate  transaction  where  all  or  a  portion  of  our  business  or  assets  (  including  our  associated  customer  lists  containing  your  personal  information  )  are  sold  or  transferred  ,  or  if  disclosure  is  required  by  law  or  pursuant  to  judicial  or  governmental  investigations  or  proceedings  .  |||  You  should  be  aware  that  if  you  voluntarily  disclose  personally  identifiable  information  in  an  e-mail  or  other  communications  with  third  parties  listed  on  the  Sites  or  in  other  materials  ,  that  information  ,  along  with  any  other  information  disclosed  in  your  communication  ,  can  be  collected  and  correlated  and  used  by  such  third  parties  and  may  result  in  your  receiving  unsolicited  messages  from  other  persons  .  Such  collection  ,  correlation  ,  use  and  messages  are  beyond  our  control  .  |||  Our  Commitment  to  Data  Security  The  Hill  takes  every  effort  to  protect  against  unauthorized  access  to  your  personal  information  ,  and  has  put  in  place  commercially  reasonable  physical  ,  electronic  ,  and  managerial  procedures  to  safeguard  and  secure  the  information  we  collect  on  the  Site  .  |||  Notwithstanding  the  above  commitment  to  protect  your  information  from  loss  ,  misuse  or  alteration  by  third  parties  ,  you  should  be  aware  that  there  is  always  some  risk  involved  in  transmitting  information  over  the  Internet  .  Additionally  ,  there  also  is  some  risk  our  security  systems  could  be  circumvented  or  breached  .  As  a  result  ,  while  we  strive  to  protect  your  information  ,  we  cannot  ensure  or  warrant  the  security  and  privacy  of  any  information  you  transmit  to  us  ,  and  you  do  so  at  your  own  risk  .  |||  Opt-out  You  may  at  any  time  opt-out  of  receiving  promotional  communications  from  The  Hill  or  third  parties  at  any  time  by  contacting  our  Information  Privacy  Manager  at  the  address  below  .  Please  note  that  if  you  decide  to  opt-out  of  receiving  promotional  information  or  other  communications  after  you  have  previously  opted  -  in  ,  your  change  in  preference  will  only  affect  future  contacts  ;  if  the  information  already  has  been  provided  to  third  parties  ,  they  may  continue  to  use  it  .  |||  Even  if  you  do  not  opt-  in  to  receive  promotional  information  or  you  have  opted  -  in  and  then  later  choose  to  opt-out  ,  we  reserve  the  right  to  contact  you  as  necessary  in  our  sole  discretion  regarding  The  Hill  ,  any  request  you  have  made  for  services  or  products  from  The  Hill  ,  changes  to  this  Privacy  Policy  and  any  other  matters  that  may  be  relevant  to  the  information  we  collect  .  |||  Correcting  Information  You  are  responsible  for  providing  accurate  information  when  making  purchases  ,  registering  with  any  portions  of  the  Site  that  require  registration  ,  or  performing  other  functions  that  might  require  you  to  submit  personally  identifiable  information  to  the  Site  .\n",
      "If  you  wish  to  correct  any  personally  identifiable  information  you  have  provided  to  us  in  this  manner  ,  you  may  do  so  by  contacting  our  Information  Privacy  Manager  at  the  address  below  .  |||  How  To  Contact  Us  If  you  would  like  to  contact  The  Hill  for  any  reason  regarding  our  privacy  practices  ,  please  write  or  e-mail  us  at  the  following  address  :  Mailing  Address  :  The  Hill  Information  Privacy  Manager  1625  K  St.  NW  Suite  900  Washington  ,  DC  20006  e-mail  :  help@thehill.com  |||  Changes  To  The  Privacy  Policy  This  Privacy  Policy  is  effective  as  of  February  26th  ,  2014  .  We  reserve  the  right  to  change  this  Privacy  Policy  at  any  time  by  notifying  users  .  We  may  notify  you  by  posting  a  notice  on  the  Site  or  by  contacting  you  through  electronic  mail  or  other  means  .  Your  continued  use  of  the  Site  following  the  posting  of  changes  to  this  Privacy  Policy  means  you  accept  those  changes  .  |||  What  If  You  Do  Not  Agree  To  The  Terms  Of  This  Privacy  Policy  ?  As  a  subscriber  to  the  Site  ,  or  otherwise  by  using  the  Site  ,  you  signify  that  you  agree  to  this  Privacy  Policy  .  If  you  do  not  agree  to  this  Privacy  Policy  ,  please  do  not  make  any  use  of  the  Site  .\n"
     ]
    }
   ],
   "source": [
    "for i in chunks:\n",
    "    print(i)"
   ]
  },
  {
   "cell_type": "code",
   "execution_count": 79,
   "id": "4b58b48d",
   "metadata": {},
   "outputs": [],
   "source": [
    "import requests\n",
    "import textstat\n",
    "\n",
    "\n",
    "\n",
    "API_URL = \"https://api-inference.huggingface.co/models/facebook/bart-large-cnn\"\n",
    "headers = {\"Authorization\": \"\"}\n",
    "\n",
    "def query(payload):\n",
    "    response = requests.post(API_URL, headers=headers, json=payload)\n",
    "    return response.json()\n",
    "\n",
    "outputs = []\n",
    "for chunk in chunks:\n",
    "    output = query({\n",
    "    \"inputs\": chunk})\n",
    "    outputs.append(output[0][\"summary_text\"])"
   ]
  },
  {
   "cell_type": "code",
   "execution_count": 80,
   "id": "ce04ca36",
   "metadata": {},
   "outputs": [
    {
     "name": "stdout",
     "output_type": "stream",
     "text": [
      "27.4\n",
      "3.43\n",
      "23.2\n",
      "26.89\n"
     ]
    }
   ],
   "source": [
    "## DOCUMENT\n",
    "import textstat\n",
    "\n",
    "\n",
    "print(textstat.flesch_kincaid_grade(y))\n",
    "print(textstat.flesch_reading_ease(y))\n",
    "print(textstat.smog_index(y))\n",
    "print(textstat.gunning_fog(y))"
   ]
  },
  {
   "cell_type": "code",
   "execution_count": 81,
   "id": "c83a4df7",
   "metadata": {},
   "outputs": [
    {
     "name": "stdout",
     "output_type": "stream",
     "text": [
      "19.3\n",
      "2.99\n",
      "17.4\n",
      "15.17\n"
     ]
    }
   ],
   "source": [
    "## SUMMARY\n",
    "summary = \"\".join(outputs)\n",
    "print(textstat.flesch_kincaid_grade(summary))\n",
    "print(textstat.flesch_reading_ease(summary))\n",
    "print(textstat.smog_index(summary))\n",
    "print(textstat.gunning_fog(summary))"
   ]
  },
  {
   "cell_type": "code",
   "execution_count": 82,
   "id": "64a44adf",
   "metadata": {},
   "outputs": [],
   "source": [
    "import os\n",
    "import openai\n",
    "\n",
    "openai.api_key = \"\"\n",
    "\n"
   ]
  },
  {
   "cell_type": "code",
   "execution_count": 83,
   "id": "0a3f8273",
   "metadata": {},
   "outputs": [],
   "source": [
    "outputs_openai = []\n",
    "for chunk in chunks:\n",
    "    prompt = \"My second grader asked me what this passage means:\\n\\\"\\\"\\\"\\n\" + chunk + \"\\n\\\"\\\"\\\"\\nI rephrased it for him, in plain language a second grader can understand:\\n\\\"\\\"\\\"\\n\"\n",
    "    response = openai.Completion.create(\n",
    "      engine=\"davinci\",\n",
    "      prompt=prompt,\n",
    "      temperature=0.5,\n",
    "      max_tokens=110,\n",
    "      top_p=1,\n",
    "      best_of=2,\n",
    "      frequency_penalty=0.2,\n",
    "      presence_penalty=0,\n",
    "      stop=[\"\\\"\\\"\\\"\"]\n",
    "    )\n",
    "    outputs_openai.append(response['choices'][0][\"text\"])\n",
    "\n",
    "    \n",
    "\n"
   ]
  },
  {
   "cell_type": "code",
   "execution_count": 84,
   "id": "975f50a1",
   "metadata": {},
   "outputs": [
    {
     "name": "stdout",
     "output_type": "stream",
     "text": [
      "12.6\n",
      "52.73\n",
      "13.7\n",
      "12.71\n"
     ]
    }
   ],
   "source": [
    "outputs_openai = \"\".join(outputs_openai)\n",
    "print(textstat.flesch_kincaid_grade(outputs_openai))\n",
    "print(textstat.flesch_reading_ease(outputs_openai))\n",
    "print(textstat.smog_index(outputs_openai))\n",
    "print(textstat.gunning_fog(outputs_openai))"
   ]
  },
  {
   "cell_type": "code",
   "execution_count": 85,
   "id": "d83647e3",
   "metadata": {},
   "outputs": [
    {
     "data": {
      "text/plain": [
       "'The Hill\\'s Privacy  Policy explains how we collect and use information from you and other users of the Site. Non-personally  identifiable information collected from you may include  user  Internet Protocol (IP) addresses, browser types, domain names and anonymous statistical data. The Site also collects information through the use of \" cookies\"We may use  your  personally  identifiable  information to notify you of  special  offers and  products  and  services from  The Hill. We may  rent, sell or  otherwise transfer  to  third  parties  personally\\xa0 identifiable information about  you. We  may  merge  your information collected  on  the  Site  with  similar  data  obtained  from  third parties.The Hill takes every effort to protect  against unauthorized access to your personal information. The Hill has put in place commercially reasonable procedures to safeguard and secure the information we collect on the Site. You are responsible for providing accurate information when registering with the Site or performing other functions that require that information be accurate.If  you  wish  to correct  any  personally  identifiable  information  you have provided  to  us  you may  do  so  by contacting  our Information  Privacy  Manager at  the  address  below. If  you would like  to contact  The Hill for  any reason  regarding  our privacy  practices,  please  write  or e-mail  us at the  following  address.'"
      ]
     },
     "execution_count": 85,
     "metadata": {},
     "output_type": "execute_result"
    }
   ],
   "source": [
    "summary"
   ]
  },
  {
   "cell_type": "markdown",
   "id": "d402bf48",
   "metadata": {},
   "source": [
    "## outputs_openai"
   ]
  },
  {
   "cell_type": "code",
   "execution_count": 86,
   "id": "24f32e00",
   "metadata": {},
   "outputs": [
    {
     "data": {
      "text/plain": [
       "\"We collect information from you and other users when you visit the site. We use that information to show you ads for things we think you might like. We also use cookies to help us understand how you use our site, so we can make it better.\\n\\nSometimes, we may ask you for extra information so we can give you access to and use of other information, materials and services. The personally identifiable information you give us when using the Site may be used to provide products and services to you, to enhance your experience at the Site, and, if applicable, to enhance your experience as a subscriber to The Hill's products and services. We may from time to time use your personally identifiable information to notify you of special offers and products and services from The Hill and/or from third parties that we think mayIf you give us your email address, we will send you emails about our stuff.\\nIf you don't like it, you can tell us to stop doing it.\\nIf we sell our company, your email address will go to the new owners.\\nIf we get a subpoena or search warrant, we may have to give up your email address.\\nIf someone hacks into our computer system, they might get your email address.\\nIf you post something on the internet, anyone on the internet can read it.\\nIf you send an emailIf you want to correct any personally identifiable information you have provided to us in this manner, you may do so by contacting our Information Privacy Manager at the address below. ||| How to Contact Us If you would like to contact The Hill for any reason regarding our privacy practices, please write or e-mail us at the following address: Mailing Address: The Hill Information Privacy Manager 1625 K St. NW Suite 900 Washington, DC 20006 e-mail: help@thehill.com ||| Changes to the Privacy Policy This Privacy Policy is\""
      ]
     },
     "execution_count": 86,
     "metadata": {},
     "output_type": "execute_result"
    }
   ],
   "source": [
    "outputs_openai"
   ]
  }
 ],
 "metadata": {
  "kernelspec": {
   "display_name": "Python 3 (ipykernel)",
   "language": "python",
   "name": "python3"
  },
  "language_info": {
   "codemirror_mode": {
    "name": "ipython",
    "version": 3
   },
   "file_extension": ".py",
   "mimetype": "text/x-python",
   "name": "python",
   "nbconvert_exporter": "python",
   "pygments_lexer": "ipython3",
   "version": "3.9.7"
  }
 },
 "nbformat": 4,
 "nbformat_minor": 5
}
